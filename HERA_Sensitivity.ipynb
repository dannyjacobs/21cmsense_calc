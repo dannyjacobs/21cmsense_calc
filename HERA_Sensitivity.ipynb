{
 "cells": [
  {
   "cell_type": "code",
   "execution_count": 2,
   "metadata": {
    "collapsed": true
   },
   "outputs": [],
   "source": [
    "from capo import sensitivity\n",
    "import numpy as np"
   ]
  },
  {
   "cell_type": "code",
   "execution_count": 3,
   "metadata": {
    "collapsed": false
   },
   "outputs": [
    {
     "name": "stdout",
     "output_type": "stream",
     "text": [
      " \\Delta^2 (k=0.2) =  294857.127222\n"
     ]
    }
   ],
   "source": [
    "z = 8.36\n",
    "f = 1420.5/(1+z)\n",
    "S = sensitivity.Sense()\n",
    "S.z = z\n",
    "S.Tsys = (200 + 180.*(f/180)**-2.55)*1e3 #set to match noise model\n",
    "S.t_int = 10.7 \n",
    "S.Nlsthours = 2.5\n",
    "S.Ndays = 1 \n",
    "S.Nbls = 12\n",
    "S.Nseps = 3\n",
    "S.Nblgroups = 1 #no baseline grouping\n",
    "S.Omega_eff = 0.08 #python ~/scripts/beam_integral.py -f 0.15 --dB Directivity150MHz.fits\n",
    "S.calc()\n",
    "print \" \\Delta^2 (k=0.2) = \",S.Delta2_N(0.2)*2"
   ]
  },
  {
   "cell_type": "markdown",
   "metadata": {},
   "source": [
    "\n",
    "<img src=\"HERA_observing_season_annotated.png\" alt=\"Observing Season, one lstbin highlighted\" style=\"width: 300px;\"/>\n",
    "Copied from HERA memo #8. lstbin highlighted here (lst=4) lasts for 7 months."
   ]
  },
  {
   "cell_type": "code",
   "execution_count": 6,
   "metadata": {
    "collapsed": false
   },
   "outputs": [
    {
     "name": "stdout",
     "output_type": "stream",
     "text": [
      " \\Delta^2 (k=0.2) =  773.972722599\n"
     ]
    }
   ],
   "source": [
    "\n",
    "#lets target a single \"pointing\", a ten minute long observation of LST=4h repeated every day from September 1 to March 1\n",
    "z = 8.36\n",
    "f = 1420.5/(1+z)\n",
    "S_S2 = sensitivity.Sense()\n",
    "S_S2.z = z\n",
    "S_S2.Tsys = (200 + 180.*(f/180)**-2.55)*1e3 #set to match noise model\n",
    "S_S2.t_int = 5*60 #bin the single pointing into two 5 minute coherent integrations\n",
    "S_S2.Nlsthours = 1 # assume we get an hour of maxed out lst coverage\n",
    "S_S2.Ndays = 7*30 #7 months * 30 days\n",
    "S_S2.Nbls = 12*61/19 #this is a silly scaling from H19\n",
    "S_S2.Nseps = 1\n",
    "S_S2.Nblgroups = 1\n",
    "S_S2.Omega_eff = 0.08 #python ~/scripts/beam_integral.py -f 0.15 --dB Directivity150MHz.fits\n",
    "S_S2.calc()\n",
    "print \" \\Delta^2 (k=0.2) = \",S_S2.Delta2_N(0.3)*2\n",
    "\n"
   ]
  },
  {
   "cell_type": "code",
   "execution_count": 16,
   "metadata": {
    "collapsed": false
   },
   "outputs": [
    {
     "name": "stdout",
     "output_type": "stream",
     "text": [
      " \\Delta^2 (k=0.2) =  28.724821897\n"
     ]
    }
   ],
   "source": [
    "#Whats the best H331 can do with a single bl type?\n",
    "z = 8.36\n",
    "f = 1420.5/(1+z)\n",
    "S_S2 = sensitivity.Sense()\n",
    "S_S2.z = z\n",
    "S_S2.Tsys = (200 + 180.*(f/180)**-2.55)*1e3 #set to match noise model\n",
    "S_S2.t_int = 10*60 #bin the single pointing into two 5 minute coherent integrations\n",
    "S_S2.Nlsthours = 4 # assume we get an hour of maxed out lst coverage\n",
    "S_S2.Ndays = 7*30 #7 months * 30 days\n",
    "S_S2.Nbls = 12*331/19 #this is a silly scaling of the number of EW 0,1 bls from H19\n",
    "S_S2.Nseps = 3\n",
    "S_S2.Nblgroups = 1\n",
    "S_S2.Omega_eff = 0.08 #python ~/scripts/beam_integral.py -f 0.15 --dB Directivity150MHz.fits\n",
    "S_S2.calc()\n",
    "print \" \\Delta^2 (k=0.2) = \",S_S2.Delta2_N(0.3)*2"
   ]
  }
 ],
 "metadata": {
  "kernelspec": {
   "display_name": "Python 2",
   "language": "python",
   "name": "python2"
  }
 },
 "nbformat": 4,
 "nbformat_minor": 0
}
